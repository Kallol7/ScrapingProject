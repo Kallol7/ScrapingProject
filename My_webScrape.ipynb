{
 "cells": [
  {
   "cell_type": "code",
   "execution_count": 1,
   "metadata": {},
   "outputs": [],
   "source": [
    "import pandas as pd\n",
    "import numpy as np\n",
    "import requests\n",
    "from bs4 import BeautifulSoup\n",
    "import os"
   ]
  },
  {
   "cell_type": "code",
   "execution_count": 2,
   "metadata": {},
   "outputs": [],
   "source": [
    "base_url = \"https://\" #link hidden"
   ]
  },
  {
   "cell_type": "code",
   "execution_count": 3,
   "metadata": {},
   "outputs": [],
   "source": [
    "source = requests.get(base_url).text\n",
    "soup = BeautifulSoup(source,'lxml')"
   ]
  },
  {
   "cell_type": "code",
   "execution_count": 4,
   "metadata": {},
   "outputs": [],
   "source": [
    "ol= soup.find(class_='archive-description taxonomy-archive-description').ol\n",
    "main_category = {}\n",
    "for i in ol:\n",
    "    item = i.findChildren()[0]\n",
    "    main_category[item.text] = item['href']"
   ]
  },
  {
   "cell_type": "code",
   "execution_count": null,
   "metadata": {},
   "outputs": [],
   "source": [
    "for key,value in main_category.items():\n",
    "    print(key,value)"
   ]
  },
  {
   "cell_type": "code",
   "execution_count": 6,
   "metadata": {},
   "outputs": [],
   "source": [
    "def extract_text_from_section(text_link):\n",
    "    src = requests.get(text_link).text\n",
    "    soup = BeautifulSoup(src,'lxml')\n",
    "    txt = soup.find(class_='entry-content entry-content-single').text\n",
    "    return txt\n",
    "\n",
    "def scrape_each_book(book_name,book_link,parent_directory):\n",
    "    parent_directory = parent_directory\n",
    "    \n",
    "    # book_name_Example = 'অদ্ভুত সব গল্প'\n",
    "    file_name = os.path.join(parent_directory,f'{book_name}.txt')\n",
    "    if os.path.isfile(file_name): \n",
    "        return\n",
    "    \n",
    "    _src = requests.get(book_link).text\n",
    "    soup3 = BeautifulSoup(_src,'lxml')\n",
    "\n",
    "    ol3= soup3.find(class_='archive-description taxonomy-archive-description')\n",
    "    links = ol3.find_all(class_='entry-title-link')\n",
    "    sections = {}\n",
    "    book_text = ''\n",
    "\n",
    "    for link in links:\n",
    "        sections[link.text] = link['href']\n",
    "\n",
    "    for text_link in sections.values():\n",
    "        # print(text_link)\n",
    "        txt = extract_text_from_section(text_link)\n",
    "        book_text = book_text + txt + '\\n\\n'\n",
    "\n",
    "    try:\n",
    "        with open(file_name, 'w',encoding=\"utf-8\") as f:\n",
    "            f.write(book_text)\n",
    "    except:\n",
    "        if os.path.exists(file_name):\n",
    "            os.remove(file_name)\n",
    "\n",
    "\n",
    "def go_inside_category(category_name,category_link):\n",
    "    \n",
    "    # print(category_name,category_link)\n",
    "\n",
    "    parent_directory = 'G:\\Scrape' #create this folder yourself\n",
    "    directory = category_name\n",
    "    path = os.path.join(parent_directory,directory)\n",
    "    print(path)\n",
    "    if not os.path.exists(path):\n",
    "        os.mkdir(path)\n",
    "\n",
    "    src = requests.get(category_link).text\n",
    "    soup2 = BeautifulSoup(src,'lxml')\n",
    "\n",
    "    ol2= soup2.find(class_='archive-description taxonomy-archive-description').ol\n",
    "    books = {}\n",
    "    for i in ol2:\n",
    "        item = i.findChildren()[0]\n",
    "        books[item.text] = item['href']\n",
    "\n",
    "    for key,value in books.items():\n",
    "        print(key,value)\n",
    "\n",
    "    print(len(books),end='\\n\\n')\n",
    "\n",
    "    for book_name,book_link in books.items():\n",
    "        scrape_each_book(book_name,book_link,path)\n",
    "        \n",
    "        #uncomment to work only one book\n",
    "        # break "
   ]
  },
  {
   "cell_type": "code",
   "execution_count": null,
   "metadata": {},
   "outputs": [],
   "source": [
    "# uncomment to work with only one (including break)\n",
    "# i = 0\n",
    "\n",
    "for category_name, category_link in main_category.items():\n",
    "    # i+=1\n",
    "    # if i<5:\n",
    "    #     continue\n",
    "\n",
    "    try:\n",
    "        go_inside_category(category_name,category_link)\n",
    "    except TypeError as e:\n",
    "        print(f\"{category_name} was not scraped\")\n",
    "\n",
    "    # break #break after 1 iteration"
   ]
  },
  {
   "cell_type": "code",
   "execution_count": 8,
   "metadata": {},
   "outputs": [],
   "source": [
    "# category_name,category_link = list(main_category.items())[0]\n",
    "# # print(category_name,category_link)\n",
    "\n",
    "# parent_directory = 'G:\\Scrape'\n",
    "# driectory = category_name\n",
    "# path = os.path.join(parent_directory,driectory)\n",
    "# print(path)\n",
    "# if not os.path.exists(path):\n",
    "#     os.mkdir(path)\n",
    "\n",
    "# src = requests.get(category_link).text\n",
    "# soup2 = BeautifulSoup(src,'lxml')"
   ]
  },
  {
   "cell_type": "code",
   "execution_count": 9,
   "metadata": {},
   "outputs": [],
   "source": [
    "# ol2= soup2.find(class_='archive-description taxonomy-archive-description').ol\n",
    "# books = {}\n",
    "# for i in ol2:\n",
    "#     item = i.findChildren()[0]\n",
    "#     books[item.text] = item['href']\n",
    "\n",
    "# for key,value in books.items():\n",
    "#     print(key,value)\n",
    "\n",
    "# print(len(books),end='\\\\n\\n')"
   ]
  }
 ],
 "metadata": {
  "kernelspec": {
   "display_name": "Python 3",
   "language": "python",
   "name": "python3"
  },
  "language_info": {
   "codemirror_mode": {
    "name": "ipython",
    "version": 3
   },
   "file_extension": ".py",
   "mimetype": "text/x-python",
   "name": "python",
   "nbconvert_exporter": "python",
   "pygments_lexer": "ipython3",
   "version": "3.9.7"
  },
  "orig_nbformat": 4
 },
 "nbformat": 4,
 "nbformat_minor": 2
}
